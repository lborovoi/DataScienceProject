{
 "cells": [
  {
   "cell_type": "markdown",
   "metadata": {
    "colab_type": "text",
    "id": "chEqqJbLzFew"
   },
   "source": [
    "# Yandex Data Science School\n",
    "## Linear Regression & Regularization Exercise.\n",
    "### Written by Dr. Hanan Shteingart.\n",
    "\n",
    "## Outline\n",
    "In this exercise you will learn the following topics:\n",
    "\n",
    "1. Refresher on how linear regression is solved in batch and in Gradient Descent \n",
    "2. Implementation of Ridge Regression\n",
    "3. Comparing Ridge, Lasso and vanila Linear Regression on a dataset"
   ]
  },
  {
   "cell_type": "markdown",
   "metadata": {
    "colab_type": "text",
    "id": "mR9UFmk2greT"
   },
   "source": [
    "## Refresher on Ordinary Least Square (OLS) aka Linear Regeression\n",
    "\n",
    "### Lecture Note\n",
    "\n",
    "In Matrix notration, the matrix $X$ is of dimensions $n \\times p$ where is each row is an example and each column is a feature dimension. \n",
    "\n",
    "Similarily, $y$ is of dimension $n \\times 1$ and $w$ is of dimensions $p \\times 1$.\n",
    "\n",
    "The model is $\\hat{y}=X\\cdot w$ where we assume for simplicity that $X$'s first columns equals to 1 (one padding), to account for the bias term.\n",
    "\n",
    "Our objective is to optimize the loss $L$ defines as resiudal sum of squares (RSS): \n",
    "\n",
    "$L_{RSS}=\\frac{1}{N}\\left\\Vert Xw-y \\right\\Vert^2$ (notice that in matrix notation this means summing over all examples, so $L$ is scalar.)\n",
    "\n",
    "To find the optimal $w$ one needs to derive the loss with respect to $w$.\n",
    "\n",
    "$\\frac{\\partial{L_{RSS}}}{\\partial{w}}=\\frac{2}{N}X^T(Xw-y)$ (to see why, read about [matrix derivatives](http://www.gatsby.ucl.ac.uk/teaching/courses/sntn/sntn-2017/resources/Matrix_derivatives_cribsheet.pdf) or see class notes )\n",
    "\n",
    "Thus, the gardient descent solution is $w'=w-\\eta \\frac{2}{N}X^T(Xw-y)$.\n",
    "\n",
    "Solving $\\frac{\\partial{L_{RSS}}}{\\partial{w}}=0$ for $w$ one can also get analytical solution:\n",
    "\n",
    "$w_{OLS}=(X^TX)^{-1}X^Ty$\n",
    "\n",
    "The first term, $(X^TX)^{-1}X^T$ is also called the pseudo inverse of $X$.\n",
    "\n",
    "See [lecture note from Stanford](https://web.stanford.edu/~mrosenfe/soc_meth_proj3/matrix_OLS_NYU_notes.pdf) for more details.\n"
   ]
  },
  {
   "cell_type": "markdown",
   "metadata": {
    "colab_type": "text",
    "id": "JA3MEKz80vdy"
   },
   "source": [
    "## Exercise 1 - Ordinary Least Square\n",
    "* Get the boston housing dataset by using the scikit-learn package. hint: [load_boston](http://scikit-learn.org/stable/modules/generated/sklearn.datasets.load_boston.html)\n",
    "\n",
    "* What is $p$? what is $n$ in the above notation? hint: [shape](https://docs.scipy.org/doc/numpy-1.15.0/reference/generated/numpy.ndarray.shape.html)\n",
    "\n",
    "* write a model `OrdinaryLinearRegression` which has a propoery $w$ and 3 methods: `fit`, `predict` and `score` (which returns the MSE on a given sample set). Hint: use [numpy.linalg.pinv](https://docs.scipy.org/doc/numpy-1.15.1/reference/generated/numpy.linalg.pinv.html) to be more efficient.\n",
    "\n",
    "* Fit the model. What is the training MSE?\n",
    "\n",
    "* Plot a scatter plot where on x-axis plot $Y$ and in the y-axis $\\hat{Y}_{OLS}$\n",
    "\n",
    "* Split the data to 75% train and 25% test 20 times. What is the average MSE now for train and test? Hint: use [train_test_split](http://scikit-learn.org/stable/modules/generated/sklearn.model_selection.train_test_split.html) or [ShuffleSplit](http://scikit-learn.org/stable/modules/generated/sklearn.model_selection.ShuffleSplit.html).\n",
    "\n",
    "* Use a t-test to proove that the MSE for training is significantly smaller than for testing. What is the p-value? Hint: use [scipy.stats.ttest_rel](https://docs.scipy.org/doc/scipy-0.14.0/reference/generated/scipy.stats.ttest_rel.html). \n",
    "\n",
    "* Write a new class `OrdinaryLinearRegressionGradientDescent` which inherits from `OrdinaryLinearRegression` and solves the problem using gradinet descent. The class should get as a parameter the learning rate and number of iteration. Plot the class convergance. What is the effect of learning rate? How would you find number of iteration automatically? Note: Gradient Descent does not work well when features are not scaled evenly (why?!). Be sure to normalize your features first.\n",
    "\n",
    "* **Bonus:** Repeat for coordinate descent by creating a new class `OrdinaryLinearRegressionCoordinateDescent` which also inherits from `OrdinaryLinearRegression`. Compare the learning curves.\n"
   ]
  },
  {
   "cell_type": "code",
   "execution_count": 1,
   "metadata": {
    "colab": {},
    "colab_type": "code",
    "collapsed": true,
    "id": "ZuSS8LhcfZdn"
   },
   "outputs": [],
   "source": [
    "%matplotlib inline\n",
    "import numpy as np\n",
    "import pandas as pd\n",
    "from pandas import Series, DataFrame\n",
    "import matplotlib.pyplot as plt\n",
    "import seaborn as sns\n",
    "\n",
    "sns.set_style('whitegrid')"
   ]
  },
  {
   "cell_type": "code",
   "execution_count": 29,
   "metadata": {},
   "outputs": [
    {
     "data": {
      "text/plain": [
       "(506, 13)"
      ]
     },
     "execution_count": 29,
     "metadata": {},
     "output_type": "execute_result"
    }
   ],
   "source": [
    "from sklearn.datasets import load_boston\n",
    "from sklearn.linear_model import LinearRegression\n",
    "\n",
    "boston = load_boston()\n",
    "# print (boston.DESCR)  to get the description of the data\n",
    "boston.data.shape"
   ]
  },
  {
   "cell_type": "code",
   "execution_count": 37,
   "metadata": {
    "collapsed": true
   },
   "outputs": [],
   "source": [
    "X = boston.data\n",
    "y = boston.target"
   ]
  },
  {
   "cell_type": "code",
   "execution_count": 40,
   "metadata": {},
   "outputs": [
    {
     "name": "stdout",
     "output_type": "stream",
     "text": [
      "score: 21.8977792177\n"
     ]
    }
   ],
   "source": [
    "class OrdinaryLinearRegression:\n",
    "    def __init__(self):\n",
    "        self.w = None\n",
    "        \n",
    "    def fit(self, X, y):\n",
    "        (n, p) = X.shape\n",
    "        X = np.append(np.ones((n, 1)), X, 1)\n",
    "        self.w = np.linalg.pinv(X) @ y\n",
    "    \n",
    "    def predict(self, sample):\n",
    "        if len(sample.shape) == 1:\n",
    "            sample = np.append(1., sample)\n",
    "        else:\n",
    "            sample = np.append(np.ones((sample.shape[0], 1)), sample, 1)\n",
    "        return sample @ self.w\n",
    "    \n",
    "    def score(self, X, y):\n",
    "        (n, p) = X.shape\n",
    "        X = np.append(np.ones((n, 1)), X, 1)\n",
    "        errors = X @ self.w - y\n",
    "        return np.mean(errors ** 2)\n",
    "\n",
    "model = OrdinaryLinearRegression()\n",
    "model.fit(X, y)\n",
    "\n",
    "print('score:', model.score(X, y))\n",
    "model.predict(np.ones(13))\n",
    "\n",
    "y_predicted = model.predict(X)"
   ]
  },
  {
   "cell_type": "code",
   "execution_count": 42,
   "metadata": {},
   "outputs": [
    {
     "data": {
      "text/plain": [
       "<matplotlib.collections.PathCollection at 0x1abd7b8e828>"
      ]
     },
     "execution_count": 42,
     "metadata": {},
     "output_type": "execute_result"
    },
    {
     "data": {
      "image/png": "[encoded data removed]",
      "text/plain": [
       "<matplotlib.figure.Figure at 0x1abd7cc7438>"
      ]
     },
     "metadata": {},
     "output_type": "display_data"
    }
   ],
   "source": [
    "plt.scatter(y, y_predicted)"
   ]
  },
  {
   "cell_type": "code",
   "execution_count": 128,
   "metadata": {},
   "outputs": [
    {
     "name": "stdout",
     "output_type": "stream",
     "text": [
      "24.3158139631 17.1584986495\n"
     ]
    }
   ],
   "source": [
    "from sklearn.model_selection import train_test_split\n",
    "\n",
    "X_train, X_test, y_train, y_test = train_test_split(X, y)\n",
    "model = OrdinaryLinearRegression()\n",
    "model.fit(X_train, y_train)\n",
    "print(model.score(X_train, y_train), model.score(X_test, y_test))"
   ]
  },
  {
   "cell_type": "code",
   "execution_count": 50,
   "metadata": {},
   "outputs": [
    {
     "data": {
      "text/plain": [
       "Ttest_relResult(statistic=-3.1319711579331573, pvalue=0.0022835214286021414)"
      ]
     },
     "execution_count": 50,
     "metadata": {},
     "output_type": "execute_result"
    }
   ],
   "source": [
    "from scipy import stats\n",
    "\n",
    "def find_errors():\n",
    "    X_train, X_test, y_train, y_test = train_test_split(X, y, test_size=0.25)\n",
    "    model = OrdinaryLinearRegression()\n",
    "    model.fit(X_train, y_train)\n",
    "    return model.score(X_train, y_train), model.score(X_test, y_test)\n",
    "\n",
    "all_results = [find_errors() for i in range(100)]\n",
    "err_train, err_test = zip(*all_results)\n",
    "\n",
    "stats.ttest_rel(err_train,err_test)"
   ]
  },
  {
   "cell_type": "code",
   "execution_count": 81,
   "metadata": {},
   "outputs": [
    {
     "name": "stdout",
     "output_type": "stream",
     "text": [
      "score: 88.4553380915\n"
     ]
    }
   ],
   "source": [
    "class OrdinaryLinearRegressionGradientDescent(OrdinaryLinearRegression):\n",
    "    def __init__(self, learning_rate=1, num_iterations=20):\n",
    "        self.learning_rate = learning_rate\n",
    "        self.num_iterations = num_iterations\n",
    "        self.w = None\n",
    "        self.error_history = None\n",
    "        \n",
    "    def fit(self, X, y):\n",
    "        (n, p) = X.shape\n",
    "        X = np.append(np.ones((n, 1)), X, 1)\n",
    "        \n",
    "        # Normalize\n",
    "        maxima = np.max(np.abs(X), 0)\n",
    "        X /= maxima\n",
    "\n",
    "        w = np.zeros(p + 1)\n",
    "        self.error_history = []\n",
    "        for i in range(self.num_iterations):\n",
    "            error = X @ w - y\n",
    "            self.error_history.append(np.mean(error ** 2))\n",
    "            w -= (self.learning_rate / n) * (error @ X)\n",
    "        \n",
    "        error = X @ w - y\n",
    "        self.error_history.append(np.mean(error ** 2))\n",
    "        self.w = w / maxima\n",
    "        \n",
    "    def get_error_history(self):\n",
    "        return self.error_history\n",
    "        \n",
    "model2 = OrdinaryLinearRegressionGradientDescent(0.05)\n",
    "model2.fit(X, y)\n",
    "print('score:', model2.score(X, y))"
   ]
  },
  {
   "cell_type": "code",
   "execution_count": 84,
   "metadata": {},
   "outputs": [
    {
     "data": {
      "text/plain": [
       "[<matplotlib.lines.Line2D at 0x1abd7b2e978>]"
      ]
     },
     "execution_count": 84,
     "metadata": {},
     "output_type": "execute_result"
    },
    {
     "data": {
      "image/png": "[encoded data removed]",
      "text/plain": [
       "<matplotlib.figure.Figure at 0x1abd727ff98>"
      ]
     },
     "metadata": {},
     "output_type": "display_data"
    }
   ],
   "source": [
    "plt.plot(model2.get_error_history())"
   ]
  },
  {
   "cell_type": "code",
   "execution_count": 134,
   "metadata": {},
   "outputs": [
    {
     "name": "stdout",
     "output_type": "stream",
     "text": [
      "92.0056240118 77.4907187927\n"
     ]
    }
   ],
   "source": [
    "X_train, X_test, y_train, y_test = train_test_split(X, y)\n",
    "model2 = OrdinaryLinearRegressionGradientDescent(0.05)\n",
    "model2.fit(X_train, y_train)\n",
    "print(model2.score(X_train, y_train), model2.score(X_test, y_test))"
   ]
  },
  {
   "cell_type": "markdown",
   "metadata": {
    "colab_type": "text",
    "id": "7HVfnXvZFi98"
   },
   "source": [
    "## Exercise 2 - Ridge Linear Regression\n",
    "\n",
    "Recall that ridge regression is identical to OLS but with a L2 penalty over the weights:\n",
    "\n",
    "$L(y,\\hat{y})=\\frac{1}{N}\\sum_{i=1}^{i=N}{(y^{(i)}-\\hat{y}^{(i)})^2} + \\lambda \\left\\Vert w \\right\\Vert_2$\n",
    "\n",
    "* Show, by differentiating the above loss, that the analytical solution is $w_{Ridge}=(X^TX+\\lambda I)^{-1}X^Ty$\n",
    "* Change `OrdinaryLinearRegression` and `OrdinaryLinearRegressionGradientDescent` classes to work also for ridge regression (do not use the random noise analogy but use the analytical derivation). Either add a parameter, or use inheritance.\n",
    "* **Bonus: Noise as a regularizer**: Show that OLS (ordinary least square), if one adds multiplicative noise to the features the **average** solution for $W$ is equivalent to Ridge regression. In other words, if $X'= X*G$ where $G$ is an uncorrelated noise with variance $\\sigma$ and mean 1, then solving for $X'$ with OLS is like solving Ridge for $X$. What is the interpreation? \n",
    "\n"
   ]
  },
  {
   "cell_type": "code",
   "execution_count": 144,
   "metadata": {},
   "outputs": [
    {
     "name": "stdout",
     "output_type": "stream",
     "text": [
      "OLS score: 21.8977792177\n",
      "RLS score: 22.2893454948\n",
      "Gradient descent score: 74.5550649225\n",
      "Ridge gradient descent score: 74.6035213457\n"
     ]
    },
    {
     "data": {
      "text/plain": [
       "[<matplotlib.lines.Line2D at 0x1abd9e74e48>,\n",
       " <matplotlib.lines.Line2D at 0x1abd9e74fd0>]"
      ]
     },
     "execution_count": 144,
     "metadata": {},
     "output_type": "execute_result"
    },
    {
     "data": {
      "image/png": "[encoded data removed]",
      "text/plain": [
       "<matplotlib.figure.Figure at 0x1abd7a2cd30>"
      ]
     },
     "metadata": {},
     "output_type": "display_data"
    }
   ],
   "source": [
    "class LinearRegression:\n",
    "    def __init__(self, lam=0):\n",
    "        self.w = None\n",
    "        self.lam = lam\n",
    "           \n",
    "    def predict(self, sample):\n",
    "        if len(sample.shape) == 1:\n",
    "            sample = np.append(1., sample)\n",
    "        else:\n",
    "            sample = np.append(np.ones((sample.shape[0], 1)), sample, 1)\n",
    "        return sample @ self.w\n",
    "    \n",
    "    def score(self, X, y):\n",
    "        (n, p) = X.shape\n",
    "        X = np.append(np.ones((n, 1)), X, 1)\n",
    "        errors = X @ self.w - y\n",
    "        return np.mean(errors ** 2)\n",
    "    \n",
    "class OrdinaryLinearRegression(LinearRegression):\n",
    "    def __init__(self, lam=0):\n",
    "        super().__init__(lam)\n",
    "        \n",
    "    def fit(self, X, y):\n",
    "        (n, p) = X.shape\n",
    "        X = np.append(np.ones((n, 1)), X, 1)\n",
    "        if self.lam == 0:\n",
    "            pseudo_inverse = np.linalg.pinv(X)\n",
    "        else:\n",
    "            X_t = X.transpose()\n",
    "            pseudo_inverse = np.linalg.inv(X_t @ X + self.lam * np.eye(p + 1)) @ X_t\n",
    "        self.w = pseudo_inverse @ y\n",
    "        \n",
    "class OrdinaryLinearRegressionGradientDescent(OrdinaryLinearRegression):\n",
    "    def __init__(self, lam=0, learning_rate=1, num_iterations=20):\n",
    "        super().__init__(lam)\n",
    "        self.learning_rate = learning_rate\n",
    "        self.num_iterations = num_iterations\n",
    "        self.error_history = None\n",
    "        \n",
    "    def fit(self, X, y):\n",
    "        (n, p) = X.shape\n",
    "        X = np.append(np.ones((n, 1)), X, 1)\n",
    "        \n",
    "        # Normalize\n",
    "        maxima = np.max(np.abs(X), 0)\n",
    "        X /= maxima\n",
    "\n",
    "        w = np.zeros(p + 1)\n",
    "        self.error_history = []\n",
    "        for i in range(self.num_iterations):\n",
    "            error = X @ w - y\n",
    "            self.error_history.append(np.mean(error ** 2))\n",
    "            w -= (self.learning_rate / n) * (error @ X + 2 * self.lam * w)\n",
    "        \n",
    "        error = X @ w - y\n",
    "        self.error_history.append(np.mean(error ** 2))\n",
    "        self.w = w / maxima\n",
    "        \n",
    "    def get_error_history(self):\n",
    "        return self.error_history\n",
    "        \n",
    "model = OrdinaryLinearRegression()\n",
    "model.fit(X, y)\n",
    "print('OLS score:', model.score(X, y))\n",
    "\n",
    "model = OrdinaryLinearRegression(lam=0.5)\n",
    "model.fit(X, y)\n",
    "print('RLS score:', model.score(X, y))\n",
    "\n",
    "model = OrdinaryLinearRegressionGradientDescent(learning_rate=0.1)\n",
    "model.fit(X, y)\n",
    "print('Gradient descent score:', model.score(X, y))\n",
    "ordinary_history = model.get_error_history()\n",
    "\n",
    "model = OrdinaryLinearRegressionGradientDescent(learning_rate=0.1, lam=0.5)\n",
    "model.fit(X, y)\n",
    "print('Ridge gradient descent score:', model.score(X, y))\n",
    "ridge_history = model.get_error_history()\n",
    "\n",
    "n = len(ordinary_history)\n",
    "\n",
    "plt.plot(range(n), ordinary_history, range(n), ridge_history)"
   ]
  },
  {
   "cell_type": "markdown",
   "metadata": {
    "colab_type": "text",
    "id": "aeD1Zxj95im7"
   },
   "source": [
    "## Exercise 3 - Lasso Linear Regression\n",
    "\n",
    "As we've seen in class, Lasso Regression is a regularization technique with $L_1$ penalty on weights. This techniques creates sparse weights (some weights become effectively zero). Programming a Lasso solver is a challange and is left as an optional exercise below.\n",
    "This exercise will focus on the analysis of the different regularization techniques over a toy problem using the scikit-learn implementation.\n",
    "\n",
    "### Data generation: 1-D Polynomal Regression\n",
    "```\n",
    "def true_fun(X):\n",
    "    return np.cos(1.5 * np.pi * X)\n",
    "\n",
    "np.random.seed(0)\n",
    "n_samples = 30\n",
    "degrees = [1, 4, 15]\n",
    "X = np.sort(np.random.rand(n_samples))\n",
    "y = true_fun(X) + np.random.randn(n_samples) * 0.1\n",
    "\n",
    "```\n",
    "\n",
    "* Use the preprocessing transformer `sklearn.preprocessing.PolynomialFeatures` in order to create a feature space. Note, you can use `sklearn.pipeline.Pipeline` in order to create an effective model which does the preprocessing (not essential).\n",
    "* Use `sklearn.model_selection.cross_val_score` to evaluate each of the linear model provided by Scikit-learn (`from sklearn.linear_model import LinearRegression, RidgeCV, LassoCV`) and compare the performance over the different `degrees`. To do so, create a 3x3 plot where each row correspond to one model and each column to one degree. Each plot should plot the train data as well as the true model and the fitted one (use 100 points in the range [0,1]) and the CV (cross validation) MSE. What is the take home message? (Note: RidgeCV and LassoCV do an internal cross-validation to determin the regularization parameter.)\n",
    "* Weights spectrum: change the `alpha` parameter gradually (on a logartithmic scale) and observe how the coefficients change for `degrees=5` over alpha for Ridge and Lasso. What is the take home message?"
   ]
  }
 ],
 "metadata": {
  "colab": {
   "collapsed_sections": [],
   "name": "Regression & Regularization - Exercise.ipynb",
   "provenance": [],
   "version": "0.3.2"
  },
  "kernelspec": {
   "display_name": "Python 3",
   "language": "python",
   "name": "python3"
  },
  "language_info": {
   "codemirror_mode": {
    "name": "ipython",
    "version": 3
   },
   "file_extension": ".py",
   "mimetype": "text/x-python",
   "name": "python",
   "nbconvert_exporter": "python",
   "pygments_lexer": "ipython3",
   "version": "3.6.3"
  }
 },
 "nbformat": 4,
 "nbformat_minor": 1
}
